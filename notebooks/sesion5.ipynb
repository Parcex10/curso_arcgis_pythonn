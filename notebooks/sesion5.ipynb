{
  "cells": [
    {
      "cell_type": "code",
      "execution_count": 1,
      "id": "0",
      "metadata": {
        "colab": {
          "base_uri": "https://localhost:8080/"
        },
        "id": "0",
        "outputId": "8125db3f-c324-48fd-b2a3-75f0f5aaf8a0"
      },
      "outputs": [
        {
          "output_type": "stream",
          "name": "stdout",
          "text": [
            "Drive already mounted at /content/drive; to attempt to forcibly remount, call drive.mount(\"/content/drive\", force_remount=True).\n"
          ]
        }
      ],
      "source": [
        "#Solo descomenta esta celda si quieres tu iniciar sesión personal en Google Colab\n",
        "\n",
        "from google.colab import drive\n",
        "drive.mount('/content/drive')"
      ]
    },
    {
      "cell_type": "code",
      "execution_count": 2,
      "id": "1",
      "metadata": {
        "collapsed": true,
        "colab": {
          "base_uri": "https://localhost:8080/"
        },
        "id": "1",
        "outputId": "66ff7cba-3847-4a69-ac52-670603ca8a12"
      },
      "outputs": [
        {
          "output_type": "stream",
          "name": "stdout",
          "text": [
            "Requirement already satisfied: osmnx in /usr/local/lib/python3.11/dist-packages (2.0.4)\n",
            "Requirement already satisfied: rasterio in /usr/local/lib/python3.11/dist-packages (1.4.3)\n",
            "Requirement already satisfied: mapclassify in /usr/local/lib/python3.11/dist-packages (2.9.0)\n",
            "Requirement already satisfied: contextily in /usr/local/lib/python3.11/dist-packages (1.6.2)\n",
            "Requirement already satisfied: geopandas>=1.0 in /usr/local/lib/python3.11/dist-packages (from osmnx) (1.0.1)\n",
            "Requirement already satisfied: networkx>=2.5 in /usr/local/lib/python3.11/dist-packages (from osmnx) (3.5)\n",
            "Requirement already satisfied: numpy>=1.22 in /usr/local/lib/python3.11/dist-packages (from osmnx) (2.0.2)\n",
            "Requirement already satisfied: pandas>=1.4 in /usr/local/lib/python3.11/dist-packages (from osmnx) (2.2.2)\n",
            "Requirement already satisfied: requests>=2.27 in /usr/local/lib/python3.11/dist-packages (from osmnx) (2.32.3)\n",
            "Requirement already satisfied: shapely>=2.0 in /usr/local/lib/python3.11/dist-packages (from osmnx) (2.1.1)\n",
            "Requirement already satisfied: affine in /usr/local/lib/python3.11/dist-packages (from rasterio) (2.4.0)\n",
            "Requirement already satisfied: attrs in /usr/local/lib/python3.11/dist-packages (from rasterio) (25.3.0)\n",
            "Requirement already satisfied: certifi in /usr/local/lib/python3.11/dist-packages (from rasterio) (2025.6.15)\n",
            "Requirement already satisfied: click>=4.0 in /usr/local/lib/python3.11/dist-packages (from rasterio) (8.2.1)\n",
            "Requirement already satisfied: cligj>=0.5 in /usr/local/lib/python3.11/dist-packages (from rasterio) (0.7.2)\n",
            "Requirement already satisfied: click-plugins in /usr/local/lib/python3.11/dist-packages (from rasterio) (1.1.1.2)\n",
            "Requirement already satisfied: pyparsing in /usr/local/lib/python3.11/dist-packages (from rasterio) (3.2.3)\n",
            "Requirement already satisfied: scikit-learn>=1.4 in /usr/local/lib/python3.11/dist-packages (from mapclassify) (1.6.1)\n",
            "Requirement already satisfied: scipy>=1.12 in /usr/local/lib/python3.11/dist-packages (from mapclassify) (1.15.3)\n",
            "Requirement already satisfied: geopy in /usr/local/lib/python3.11/dist-packages (from contextily) (2.4.1)\n",
            "Requirement already satisfied: matplotlib in /usr/local/lib/python3.11/dist-packages (from contextily) (3.10.0)\n",
            "Requirement already satisfied: mercantile in /usr/local/lib/python3.11/dist-packages (from contextily) (1.2.1)\n",
            "Requirement already satisfied: pillow in /usr/local/lib/python3.11/dist-packages (from contextily) (11.2.1)\n",
            "Requirement already satisfied: joblib in /usr/local/lib/python3.11/dist-packages (from contextily) (1.5.1)\n",
            "Requirement already satisfied: xyzservices in /usr/local/lib/python3.11/dist-packages (from contextily) (2025.4.0)\n",
            "Requirement already satisfied: pyogrio>=0.7.2 in /usr/local/lib/python3.11/dist-packages (from geopandas>=1.0->osmnx) (0.11.0)\n",
            "Requirement already satisfied: packaging in /usr/local/lib/python3.11/dist-packages (from geopandas>=1.0->osmnx) (24.2)\n",
            "Requirement already satisfied: pyproj>=3.3.0 in /usr/local/lib/python3.11/dist-packages (from geopandas>=1.0->osmnx) (3.7.1)\n",
            "Requirement already satisfied: python-dateutil>=2.8.2 in /usr/local/lib/python3.11/dist-packages (from pandas>=1.4->osmnx) (2.9.0.post0)\n",
            "Requirement already satisfied: pytz>=2020.1 in /usr/local/lib/python3.11/dist-packages (from pandas>=1.4->osmnx) (2025.2)\n",
            "Requirement already satisfied: tzdata>=2022.7 in /usr/local/lib/python3.11/dist-packages (from pandas>=1.4->osmnx) (2025.2)\n",
            "Requirement already satisfied: charset-normalizer<4,>=2 in /usr/local/lib/python3.11/dist-packages (from requests>=2.27->osmnx) (3.4.2)\n",
            "Requirement already satisfied: idna<4,>=2.5 in /usr/local/lib/python3.11/dist-packages (from requests>=2.27->osmnx) (3.10)\n",
            "Requirement already satisfied: urllib3<3,>=1.21.1 in /usr/local/lib/python3.11/dist-packages (from requests>=2.27->osmnx) (2.4.0)\n",
            "Requirement already satisfied: threadpoolctl>=3.1.0 in /usr/local/lib/python3.11/dist-packages (from scikit-learn>=1.4->mapclassify) (3.6.0)\n",
            "Requirement already satisfied: geographiclib<3,>=1.52 in /usr/local/lib/python3.11/dist-packages (from geopy->contextily) (2.0)\n",
            "Requirement already satisfied: contourpy>=1.0.1 in /usr/local/lib/python3.11/dist-packages (from matplotlib->contextily) (1.3.2)\n",
            "Requirement already satisfied: cycler>=0.10 in /usr/local/lib/python3.11/dist-packages (from matplotlib->contextily) (0.12.1)\n",
            "Requirement already satisfied: fonttools>=4.22.0 in /usr/local/lib/python3.11/dist-packages (from matplotlib->contextily) (4.58.4)\n",
            "Requirement already satisfied: kiwisolver>=1.3.1 in /usr/local/lib/python3.11/dist-packages (from matplotlib->contextily) (1.4.8)\n",
            "Requirement already satisfied: six>=1.5 in /usr/local/lib/python3.11/dist-packages (from python-dateutil>=2.8.2->pandas>=1.4->osmnx) (1.17.0)\n"
          ]
        }
      ],
      "source": [
        "!pip install osmnx rasterio mapclassify contextily"
      ]
    },
    {
      "cell_type": "markdown",
      "id": "2",
      "metadata": {
        "id": "2"
      },
      "source": [
        "# Uso de rasterio y reclasificación de datos"
      ]
    },
    {
      "cell_type": "markdown",
      "id": "3",
      "metadata": {
        "id": "3"
      },
      "source": [
        "## Primer ejemplo"
      ]
    },
    {
      "cell_type": "code",
      "execution_count": 4,
      "id": "4",
      "metadata": {
        "id": "4"
      },
      "outputs": [],
      "source": [
        "import os\n",
        "import zipfile\n",
        "import geopandas as gpd\n",
        "import pandas as pd\n",
        "import matplotlib.pyplot as plt\n",
        "import matplotlib.colors as colors\n",
        "import numpy as np\n",
        "from shapely.geometry import box\n",
        "import warnings\n",
        "warnings.filterwarnings(\"ignore\")"
      ]
    },
    {
      "cell_type": "code",
      "execution_count": 5,
      "id": "5",
      "metadata": {
        "id": "5"
      },
      "outputs": [],
      "source": [
        "ruta = os.path.join('drive', 'MyDrive', 'Verano', 'ArcGIS', 'Curso_Python_SIG', 'datos')\n",
        "ruta_extraccion = os.path.join(ruta, 'extracciones')\n",
        "\n",
        "with zipfile.ZipFile(os.path.join(ruta, 'uso_de_suelo.zip'), 'r') as zip_ref:\n",
        "    zip_ref.extractall(ruta_extraccion)"
      ]
    },
    {
      "cell_type": "markdown",
      "id": "6",
      "metadata": {
        "id": "6"
      },
      "source": [
        "En este ejemplo, utilizaremos una capa de uso de suelo y la reclasificaremos para crear una nueva capa que represente diferentes categorías de uso de suelo."
      ]
    },
    {
      "cell_type": "markdown",
      "source": [
        "*  **`El uso de suelo`**  se refiere a la clasificación y regulación de las actividades permitidas en un área geográfica específica. En esencia, determina qué tipo de construcciones o actividades pueden realizarse en un terreno o inmueble. Esta regulación es establecida por los instrumentos de planificación territorial y urbanística, como los Planes de Desarrollo Urbano, que definen los usos permitidos en cada zona.\n",
        "En términos más sencillos, el uso de suelo indica si un terreno puede ser utilizado para:\n",
        "Vivienda (Habitacional): Construcción de casas, edificios de departamentos, etc.\n",
        "Comercio: Tiendas, restaurantes, oficinas, etc.\n",
        "Industria: Fábricas, almacenes, etc.\n",
        "Servicios: Escuelas, hospitales, parques, etc.\n",
        "Combinaciones de los anteriores: Algunas zonas pueden permitir usos mixtos, como comercio y vivienda."
      ],
      "metadata": {
        "id": "3oDvnwD5KBcR"
      },
      "id": "3oDvnwD5KBcR"
    },
    {
      "cell_type": "markdown",
      "id": "7",
      "metadata": {
        "id": "7"
      },
      "source": [
        "![](https://github.com/patymunoz/curso-geoespacial/blob/main/source/images/usosuelo-gdl.png?raw=1)"
      ]
    },
    {
      "cell_type": "code",
      "execution_count": 7,
      "id": "8",
      "metadata": {
        "id": "8"
      },
      "outputs": [],
      "source": [
        "ruta_df = os.path.join(ruta_extraccion, 'f1312_usv250s5d.shp')\n",
        "gdf = gpd.read_file(ruta_df)"
      ]
    },
    {
      "cell_type": "code",
      "execution_count": null,
      "id": "9",
      "metadata": {
        "id": "9"
      },
      "outputs": [],
      "source": []
    },
    {
      "cell_type": "code",
      "execution_count": null,
      "id": "10",
      "metadata": {
        "id": "10"
      },
      "outputs": [],
      "source": []
    },
    {
      "cell_type": "code",
      "execution_count": null,
      "id": "11",
      "metadata": {
        "id": "11"
      },
      "outputs": [],
      "source": []
    },
    {
      "cell_type": "code",
      "execution_count": null,
      "id": "12",
      "metadata": {
        "id": "12"
      },
      "outputs": [],
      "source": []
    },
    {
      "cell_type": "code",
      "execution_count": null,
      "id": "13",
      "metadata": {
        "id": "13"
      },
      "outputs": [],
      "source": []
    },
    {
      "cell_type": "markdown",
      "id": "14",
      "metadata": {
        "id": "14"
      },
      "source": [
        "Debemos asegurarnos de que el CRS de la capa esté en un sistema que sea compatible para interpretar ``_metros_`` como unidades, porque vamos a realizar operaciones para calcular áreas:"
      ]
    },
    {
      "cell_type": "code",
      "execution_count": null,
      "id": "15",
      "metadata": {
        "id": "15"
      },
      "outputs": [],
      "source": []
    },
    {
      "cell_type": "code",
      "execution_count": null,
      "id": "16",
      "metadata": {
        "id": "16"
      },
      "outputs": [],
      "source": []
    },
    {
      "cell_type": "code",
      "execution_count": null,
      "id": "17",
      "metadata": {
        "id": "17"
      },
      "outputs": [],
      "source": []
    },
    {
      "cell_type": "code",
      "execution_count": null,
      "id": "18",
      "metadata": {
        "id": "18"
      },
      "outputs": [],
      "source": []
    },
    {
      "cell_type": "code",
      "execution_count": null,
      "id": "19",
      "metadata": {
        "id": "19"
      },
      "outputs": [],
      "source": []
    },
    {
      "cell_type": "markdown",
      "id": "20",
      "metadata": {
        "id": "20"
      },
      "source": [
        "Generamos una nueva columna para guardar los resultados de la reclasificación:"
      ]
    },
    {
      "cell_type": "code",
      "execution_count": null,
      "id": "21",
      "metadata": {
        "id": "21"
      },
      "outputs": [],
      "source": []
    },
    {
      "cell_type": "code",
      "execution_count": null,
      "id": "22",
      "metadata": {
        "id": "22"
      },
      "outputs": [],
      "source": []
    },
    {
      "cell_type": "code",
      "execution_count": null,
      "id": "23",
      "metadata": {
        "id": "23"
      },
      "outputs": [],
      "source": []
    },
    {
      "cell_type": "code",
      "execution_count": null,
      "id": "24",
      "metadata": {
        "id": "24"
      },
      "outputs": [],
      "source": []
    },
    {
      "cell_type": "markdown",
      "id": "25",
      "metadata": {
        "id": "25"
      },
      "source": [
        "## Segundo ejemplo"
      ]
    },
    {
      "cell_type": "markdown",
      "id": "26",
      "metadata": {
        "id": "26"
      },
      "source": [
        "### (A)"
      ]
    },
    {
      "cell_type": "markdown",
      "id": "27",
      "metadata": {
        "id": "27"
      },
      "source": [
        "#### Obtener imagen del satélite _Shuttle Radar Topography Mission (SRTM)_"
      ]
    },
    {
      "cell_type": "markdown",
      "id": "28",
      "metadata": {
        "id": "28"
      },
      "source": [
        "``USGS/SRTMGL1_003`` es un conjunto de datos que contiene información de **elevación global**, con una resolución aproximada de 30 metros."
      ]
    },
    {
      "cell_type": "markdown",
      "id": "29",
      "metadata": {
        "id": "29"
      },
      "source": [
        "### (B)"
      ]
    },
    {
      "cell_type": "markdown",
      "id": "30",
      "metadata": {
        "id": "30"
      },
      "source": [
        "#### _OpenStreetMap_"
      ]
    },
    {
      "cell_type": "markdown",
      "id": "31",
      "metadata": {
        "id": "31"
      },
      "source": [
        "Introducimos también la biblioteca de `osmnx` para descargar datos sobre: **carreteras, caminos y parques**."
      ]
    },
    {
      "cell_type": "code",
      "execution_count": null,
      "id": "32",
      "metadata": {
        "id": "32"
      },
      "outputs": [],
      "source": [
        "import osmnx as ox"
      ]
    },
    {
      "cell_type": "code",
      "execution_count": null,
      "id": "33",
      "metadata": {
        "id": "33"
      },
      "outputs": [],
      "source": []
    },
    {
      "cell_type": "code",
      "execution_count": null,
      "id": "34",
      "metadata": {
        "id": "34"
      },
      "outputs": [],
      "source": []
    },
    {
      "cell_type": "code",
      "execution_count": null,
      "id": "35",
      "metadata": {
        "id": "35"
      },
      "outputs": [],
      "source": [
        "# Código segundo"
      ]
    },
    {
      "cell_type": "code",
      "execution_count": null,
      "id": "36",
      "metadata": {
        "id": "36"
      },
      "outputs": [],
      "source": []
    },
    {
      "cell_type": "markdown",
      "id": "37",
      "metadata": {
        "id": "37"
      },
      "source": [
        "## Rasterio"
      ]
    },
    {
      "cell_type": "code",
      "execution_count": null,
      "id": "38",
      "metadata": {
        "id": "38"
      },
      "outputs": [],
      "source": [
        "import rasterio"
      ]
    },
    {
      "cell_type": "markdown",
      "id": "39",
      "metadata": {
        "id": "39"
      },
      "source": [
        "#### _Shuttle Radar Topography Mission (SRTM)_\n",
        "\n",
        "[SRTM](https://www.usgs.gov/centers/eros/science/usgs-eros-archive-digital-elevation-shuttle-radar-topography-mission-srtm-1)\n",
        "\n",
        "* Cada píxel de la imagen representa una altura en metros sobre el nivel del mar.\n",
        "\n",
        "* Es un raster georreferenciado, lo que significa que cada píxel tiene una ubicación exacta en la Tierra.\n",
        "\n",
        "* Resolución: 30 metros (cada píxel representa un cuadrado de 30x30 metros en el terreno)."
      ]
    },
    {
      "cell_type": "markdown",
      "id": "40",
      "metadata": {
        "id": "40"
      },
      "source": [
        "Sombras en escala de grises: representan variación de altitud\n",
        "\n",
        "* Negro / oscuro: zonas más bajas\n",
        "\n",
        "* Blanco / claro: zonas elevadas (cerros, sierras)"
      ]
    },
    {
      "cell_type": "markdown",
      "id": "41",
      "metadata": {
        "id": "41"
      },
      "source": [
        "![](https://github.com/patymunoz/curso-geoespacial/blob/main/source/images/elev.png?raw=1)"
      ]
    },
    {
      "cell_type": "markdown",
      "id": "42",
      "metadata": {
        "id": "42"
      },
      "source": [
        "Crear una **rejilla de celdas cuadradas** sobre una región geográfica específica, con cada celda de aproximadamente 500 metros de lado:"
      ]
    },
    {
      "cell_type": "code",
      "execution_count": null,
      "id": "43",
      "metadata": {
        "id": "43"
      },
      "outputs": [],
      "source": [
        "# Bounding box\n",
        "xmin, ymin, xmax, ymax = -103.6, 20.55, -103.2, 20.75\n",
        "cell_size = 0.005  # ~500 metros (aprox)\n",
        "\n",
        "cols = np.arange(xmin, xmax, cell_size)\n",
        "rows = np.arange(ymin, ymax, cell_size)\n",
        "\n",
        "polygons = []\n",
        "for x in cols:\n",
        "    for y in rows:\n",
        "        poly = box(x, y, x + cell_size, y + cell_size)\n",
        "        polygons.append(poly)\n",
        "\n",
        "grid = gpd.GeoDataFrame({'geometry': polygons}, crs=\"EPSG:4326\")"
      ]
    },
    {
      "cell_type": "code",
      "execution_count": null,
      "id": "44",
      "metadata": {
        "id": "44"
      },
      "outputs": [],
      "source": []
    },
    {
      "cell_type": "code",
      "execution_count": null,
      "id": "45",
      "metadata": {
        "id": "45"
      },
      "outputs": [],
      "source": []
    },
    {
      "cell_type": "markdown",
      "id": "46",
      "metadata": {
        "id": "46"
      },
      "source": [
        "Vamos a \"recortar\" el área de interés entre `grid` y los objetos vectoriales `road` y `parks`"
      ]
    },
    {
      "cell_type": "code",
      "execution_count": null,
      "id": "47",
      "metadata": {
        "id": "47"
      },
      "outputs": [],
      "source": []
    },
    {
      "cell_type": "code",
      "execution_count": null,
      "id": "48",
      "metadata": {
        "id": "48"
      },
      "outputs": [],
      "source": []
    },
    {
      "cell_type": "code",
      "execution_count": null,
      "id": "49",
      "metadata": {
        "id": "49"
      },
      "outputs": [],
      "source": []
    },
    {
      "cell_type": "code",
      "execution_count": null,
      "id": "50",
      "metadata": {
        "id": "50"
      },
      "outputs": [],
      "source": [
        "# Código tercero"
      ]
    },
    {
      "cell_type": "code",
      "execution_count": null,
      "id": "51",
      "metadata": {
        "id": "51"
      },
      "outputs": [],
      "source": []
    },
    {
      "cell_type": "code",
      "execution_count": null,
      "id": "52",
      "metadata": {
        "id": "52"
      },
      "outputs": [],
      "source": []
    },
    {
      "cell_type": "markdown",
      "id": "53",
      "metadata": {
        "id": "53"
      },
      "source": [
        "### Generamos los cálculos"
      ]
    },
    {
      "cell_type": "markdown",
      "id": "54",
      "metadata": {
        "id": "54"
      },
      "source": [
        "Este bloque de código extrae valores de elevación desde un raster (``elev_jalisco.tif``) para cada celda de la cuadrícula, usando el _centroide_ de cada celda como punto de muestreo."
      ]
    },
    {
      "cell_type": "markdown",
      "id": "55",
      "metadata": {
        "id": "55"
      },
      "source": [
        "Pasos clave:\n",
        "\n",
        "* Se abre el raster de elevación.\n",
        "\n",
        "* Se calculan los centroides de cada celda del grid y se reproyectan al sistema de coordenadas del raster.\n",
        "\n",
        "* Se extraen los valores de elevación en esos puntos.\n",
        "\n",
        "* Se añade una columna ``'elev'`` al GeoDataFrame con los valores obtenidos."
      ]
    },
    {
      "cell_type": "code",
      "execution_count": null,
      "id": "56",
      "metadata": {
        "id": "56"
      },
      "outputs": [],
      "source": [
        "with rasterio.open(os.path.join('drive', 'MyDrive', 'tu carpeta del curso', 'datos','elev_jalisco.tif')) as src:\n",
        "    centroids_proj = grid.set_geometry('centroid').to_crs(src.crs)\n",
        "    coords = [(pt.x, pt.y) for pt in centroids_proj.geometry]\n",
        "    elev_values = [val[0] for val in src.sample(coords)]\n",
        "\n",
        "grid['elev'] = elev_values"
      ]
    },
    {
      "cell_type": "markdown",
      "id": "57",
      "metadata": {
        "id": "57"
      },
      "source": [
        "Este código reproyecta todos los datos al sistema ``UTM zona 13N (EPSG:32613)``, lo cual permite medir distancias en metros reales. Luego calcula la distancia desde el centroide de cada celda del grid a la carretera y parque más cercanos."
      ]
    },
    {
      "cell_type": "code",
      "execution_count": null,
      "id": "58",
      "metadata": {
        "id": "58"
      },
      "outputs": [],
      "source": [
        "# Reproyectar todo al mismo CRS proyectado\n",
        "grid_proj = grid.to_crs(epsg=32613)\n",
        "roads_proj = roads.to_crs(epsg=32613)\n",
        "parks_proj = parks.to_crs(epsg=32613)\n",
        "\n",
        "# Recalcular centroides después de reproyección\n",
        "grid_proj['centroid'] = grid_proj.geometry.centroid\n",
        "\n",
        "# Calcular distancias en metros\n",
        "grid_proj['dist_road'] = grid_proj.centroid.apply(lambda pt: roads_proj.distance(pt).min())\n",
        "grid_proj['dist_park'] = grid_proj.centroid.apply(lambda pt: parks_proj.distance(pt).min())"
      ]
    },
    {
      "cell_type": "markdown",
      "id": "59",
      "metadata": {
        "id": "59"
      },
      "source": [
        "- Se usa **`EPSG:32613`** (UTM zona 13N) para garantizar que las unidades estén en metros.\n",
        "- Se usa `.distance(pt).min()` para obtener la **distancia mínima** entre un punto y todos los objetos de referencia (carreteras o parques).\n",
        "- El resultado son dos nuevas columnas: `dist_road` y `dist_park`, con las distancias en metros."
      ]
    },
    {
      "cell_type": "code",
      "execution_count": null,
      "id": "60",
      "metadata": {
        "id": "60"
      },
      "outputs": [],
      "source": []
    },
    {
      "cell_type": "markdown",
      "id": "61",
      "metadata": {
        "id": "61"
      },
      "source": [
        "Creamos 3 nuevas columnas con datos numéricos (``elev``, ``dist_road``, ``dist_park``) que representan:"
      ]
    },
    {
      "cell_type": "code",
      "execution_count": null,
      "id": "62",
      "metadata": {
        "id": "62"
      },
      "outputs": [],
      "source": []
    },
    {
      "cell_type": "markdown",
      "id": "63",
      "metadata": {
        "id": "63"
      },
      "source": [
        "### Clasificación de mapas temáticos"
      ]
    },
    {
      "cell_type": "code",
      "execution_count": null,
      "id": "64",
      "metadata": {
        "id": "64"
      },
      "outputs": [],
      "source": []
    },
    {
      "cell_type": "code",
      "execution_count": null,
      "id": "65",
      "metadata": {
        "id": "65"
      },
      "outputs": [],
      "source": []
    },
    {
      "cell_type": "code",
      "execution_count": null,
      "id": "66",
      "metadata": {
        "id": "66"
      },
      "outputs": [],
      "source": [
        "import mapclassify"
      ]
    },
    {
      "cell_type": "code",
      "execution_count": null,
      "id": "67",
      "metadata": {
        "id": "67"
      },
      "outputs": [],
      "source": []
    },
    {
      "cell_type": "code",
      "execution_count": null,
      "id": "68",
      "metadata": {
        "id": "68"
      },
      "outputs": [],
      "source": []
    },
    {
      "cell_type": "code",
      "execution_count": null,
      "id": "69",
      "metadata": {
        "id": "69"
      },
      "outputs": [],
      "source": []
    },
    {
      "cell_type": "code",
      "execution_count": null,
      "id": "70",
      "metadata": {
        "id": "70"
      },
      "outputs": [],
      "source": []
    },
    {
      "cell_type": "markdown",
      "id": "71",
      "metadata": {
        "id": "71"
      },
      "source": [
        "### Reclasificación del área de interés"
      ]
    },
    {
      "cell_type": "markdown",
      "id": "72",
      "metadata": {
        "id": "72"
      },
      "source": [
        "Ahora, construyamos una función que nos permita reclasificar las tres características de interés:"
      ]
    },
    {
      "cell_type": "markdown",
      "id": "73",
      "metadata": {
        "id": "73"
      },
      "source": [
        "#### Criterios para clasificar un área de interés:\n",
        "\n",
        "- Altura menor a **1700 metros** (`elev < 1700`)\n",
        "- Estar a más de **900 metros** de una carretera (`dist_road > 900`)\n",
        "- Estar a menos de **1000 metros** de un parque (`dist_park < 1000`)"
      ]
    },
    {
      "cell_type": "code",
      "execution_count": null,
      "id": "74",
      "metadata": {
        "id": "74"
      },
      "outputs": [],
      "source": []
    },
    {
      "cell_type": "code",
      "execution_count": null,
      "id": "75",
      "metadata": {
        "id": "75"
      },
      "outputs": [],
      "source": []
    },
    {
      "cell_type": "code",
      "execution_count": null,
      "id": "76",
      "metadata": {
        "id": "76"
      },
      "outputs": [],
      "source": [
        "# Código cuarto"
      ]
    },
    {
      "cell_type": "code",
      "execution_count": null,
      "id": "77",
      "metadata": {
        "id": "77"
      },
      "outputs": [],
      "source": [
        "import contextily as cx"
      ]
    }
  ],
  "metadata": {
    "kernelspec": {
      "display_name": "cursogeo",
      "language": "python",
      "name": "python3"
    },
    "language_info": {
      "codemirror_mode": {
        "name": "ipython",
        "version": 3
      },
      "file_extension": ".py",
      "mimetype": "text/x-python",
      "name": "python",
      "nbconvert_exporter": "python",
      "pygments_lexer": "ipython3",
      "version": "3.13.2"
    },
    "colab": {
      "provenance": []
    }
  },
  "nbformat": 4,
  "nbformat_minor": 5
}